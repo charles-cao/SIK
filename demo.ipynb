{
 "cells": [
  {
   "cell_type": "code",
   "execution_count": 3,
   "id": "622b5025",
   "metadata": {},
   "outputs": [
    {
     "name": "stdout",
     "output_type": "stream",
     "text": [
      "Top 10 potential outliers (indices): [    9  4704 61872 91553 16411 17642 53951 85982     8     0]\n"
     ]
    }
   ],
   "source": [
    "import numpy as np\n",
    "from SIK import SIK\n",
    "\n",
    "# Create some example embeddings (with outliers)\n",
    "X_train = np.random.randn(100000, 10)\n",
    "X_train[0:10] = X_train[0:10] + 5  # Add some outliers\n",
    "\n",
    "# Create and train the model\n",
    "model = SIK(\n",
    "    max_samples=16,         # Number of samples per estimator\n",
    "    n_estimators=200,       # Number of base estimators\n",
    "    novelty=True,          # Outlier detection mode\n",
    "    sparse=False,           # Use dense matrices\n",
    "    device='auto',          # Auto-select best device\n",
    "    random_state=42         # For reproducibility\n",
    ")\n",
    "\n",
    "model.fit(X_train)\n",
    "\n",
    "# Get anomaly scores\n",
    "scores = model.decision_function(X_train)\n",
    "\n",
    "# Higher scores indicate higher likelihood of being anomalies\n",
    "print(\"Top 10 potential outliers (indices):\", np.argsort(scores)[-10:])"
   ]
  }
 ],
 "metadata": {
  "kernelspec": {
   "display_name": "llm",
   "language": "python",
   "name": "python3"
  },
  "language_info": {
   "codemirror_mode": {
    "name": "ipython",
    "version": 3
   },
   "file_extension": ".py",
   "mimetype": "text/x-python",
   "name": "python",
   "nbconvert_exporter": "python",
   "pygments_lexer": "ipython3",
   "version": "3.9.21"
  }
 },
 "nbformat": 4,
 "nbformat_minor": 5
}
